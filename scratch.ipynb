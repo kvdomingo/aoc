{
 "cells": [
  {
   "cell_type": "code",
   "execution_count": 62,
   "id": "initial_id",
   "metadata": {
    "ExecuteTime": {
     "end_time": "2024-12-08T11:16:54.825013Z",
     "start_time": "2024-12-08T11:16:54.821791Z"
    },
    "collapsed": true
   },
   "outputs": [],
   "source": [
    "from copy import deepcopy\n",
    "from itertools import combinations\n",
    "\n",
    "import matplotlib.pyplot as plt\n",
    "import numpy as np\n",
    "\n",
    "from common.config import BASE_DIR"
   ]
  },
  {
   "cell_type": "code",
   "execution_count": 3,
   "id": "1b770c85c3340c60",
   "metadata": {
    "ExecuteTime": {
     "end_time": "2024-12-08T09:51:25.903954Z",
     "start_time": "2024-12-08T09:51:25.900006Z"
    }
   },
   "outputs": [],
   "source": [
    "def load_input(is_test: bool = False) -> str:\n",
    "    if is_test:\n",
    "        with open(BASE_DIR / \"y2024/d08/test.txt\") as fh:\n",
    "            return fh.read().strip()\n",
    "\n",
    "\n",
    "def preprocess_data(data: str):\n",
    "    return [list(line) for line in data.split(\"\\n\")]"
   ]
  },
  {
   "cell_type": "code",
   "execution_count": 72,
   "id": "20d6f57819015a3",
   "metadata": {
    "ExecuteTime": {
     "end_time": "2024-12-08T11:29:00.784593Z",
     "start_time": "2024-12-08T11:29:00.613055Z"
    }
   },
   "outputs": [
    {
     "data": {
      "image/png": "[encoded data removed]",
      "text/plain": [
       "<Figure size 640x480 with 1 Axes>"
      ]
     },
     "metadata": {},
     "output_type": "display_data"
    },
    {
     "data": {
      "image/png": "[encoded data removed]",
      "text/plain": [
       "<Figure size 640x480 with 1 Axes>"
      ]
     },
     "metadata": {},
     "output_type": "display_data"
    },
    {
     "data": {
      "text/plain": [
       "14"
      ]
     },
     "execution_count": 72,
     "metadata": {},
     "output_type": "execute_result"
    }
   ],
   "source": [
    "matrix = preprocess_data(load_input(True))\n",
    "len_x = len(matrix[0])\n",
    "len_y = len(matrix)\n",
    "scale_factor = len_x * len_y\n",
    "unique_frequencies = {\n",
    "    matrix[j][i] for j in range(len_y) for i in range(len_x) if matrix[j][i] != \".\"\n",
    "}\n",
    "unique_antinodes = set()\n",
    "\n",
    "for freq in unique_frequencies:\n",
    "    freq_matrix = deepcopy(matrix)\n",
    "    for j in range(len_y):\n",
    "        for i in range(len_x):\n",
    "            if freq_matrix[j][i] == freq:\n",
    "                freq_matrix[j][i] = 1\n",
    "            else:\n",
    "                freq_matrix[j][i] = 0\n",
    "\n",
    "    freq_array = np.array(freq_matrix, dtype=np.float32)\n",
    "    antenna_where = np.where(freq_array == 1)\n",
    "    antenna_locations = list(zip(antenna_where[1], antenna_where[0], strict=False))\n",
    "\n",
    "    for j in range(len_y):\n",
    "        for i in range(len_x):\n",
    "            for (ax, ay), (bx, by) in combinations(antenna_locations, 2):\n",
    "                dist_a = np.sqrt((i - ax) ** 2 + (j - ay) ** 2)\n",
    "                angle_a = np.arctan2(j - ay, i - ax)\n",
    "                dist_b = np.sqrt((i - bx) ** 2 + (j - by) ** 2)\n",
    "                angle_b = np.arctan2(j - by, i - bx)\n",
    "\n",
    "                if (\n",
    "                    max(dist_a, dist_b) == 2 * min(dist_a, dist_b)\n",
    "                    and angle_a == angle_b\n",
    "                ):\n",
    "                    if not ((i == ax and j == ay) or (i == bx and j == by)):\n",
    "                        freq_array[j][i] = 0.5\n",
    "                    unique_antinodes.add((i, j))\n",
    "\n",
    "    plt.imshow(freq_array, cmap=\"jet\")\n",
    "    plt.show()\n",
    "\n",
    "len(unique_antinodes)"
   ]
  }
 ],
 "metadata": {
  "kernelspec": {
   "display_name": "Python 3",
   "language": "python",
   "name": "python3"
  },
  "language_info": {
   "codemirror_mode": {
    "name": "ipython",
    "version": 2
   },
   "file_extension": ".py",
   "mimetype": "text/x-python",
   "name": "python",
   "nbconvert_exporter": "python",
   "pygments_lexer": "ipython2",
   "version": "2.7.6"
  }
 },
 "nbformat": 4,
 "nbformat_minor": 5
}
