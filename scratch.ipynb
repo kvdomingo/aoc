{
 "cells": [
  {
   "cell_type": "code",
   "execution_count": 3,
   "id": "initial_id",
   "metadata": {
    "ExecuteTime": {
     "end_time": "2024-12-14T07:16:34.921125Z",
     "start_time": "2024-12-14T07:16:34.917535Z"
    },
    "collapsed": true
   },
   "outputs": [],
   "source": [
    "from common.config import BASE_DIR"
   ]
  },
  {
   "cell_type": "code",
   "execution_count": 4,
   "id": "e34e2fa6ae13caa6",
   "metadata": {
    "ExecuteTime": {
     "end_time": "2024-12-14T07:16:35.561397Z",
     "start_time": "2024-12-14T07:16:35.557843Z"
    }
   },
   "outputs": [],
   "source": [
    "def ic[T](x: T) -> T:\n",
    "    print(x)\n",
    "    return x"
   ]
  },
  {
   "cell_type": "code",
   "execution_count": 9,
   "id": "1b770c85c3340c60",
   "metadata": {
    "ExecuteTime": {
     "end_time": "2024-12-14T07:17:30.051793Z",
     "start_time": "2024-12-14T07:17:30.047749Z"
    }
   },
   "outputs": [],
   "source": [
    "def load_input() -> str:\n",
    "    with open(BASE_DIR / \"y2024/d11/test.txt\") as fh:\n",
    "        return fh.read().strip()\n",
    "\n",
    "\n",
    "def preprocess_input(data: str):\n",
    "    return [int(d) for d in data.split(\"\\n\")[0].split(\" \")]"
   ]
  },
  {
   "cell_type": "code",
   "execution_count": 30,
   "id": "20d6f57819015a3",
   "metadata": {
    "ExecuteTime": {
     "end_time": "2024-12-14T07:28:04.832248Z",
     "start_time": "2024-12-14T07:28:04.826913Z"
    }
   },
   "outputs": [
    {
     "data": {
      "text/plain": [
       "[125, 17]"
      ]
     },
     "execution_count": 30,
     "metadata": {},
     "output_type": "execute_result"
    }
   ],
   "source": [
    "# ins = preprocess_input(load_input())\n",
    "ins = [125, 17]\n",
    "ins"
   ]
  },
  {
   "cell_type": "code",
   "execution_count": 31,
   "id": "9720a6a7f4dc0438",
   "metadata": {
    "ExecuteTime": {
     "end_time": "2024-12-14T07:28:05.855031Z",
     "start_time": "2024-12-14T07:28:05.851122Z"
    }
   },
   "outputs": [],
   "source": [
    "def apply_rule(i: int) -> list[int]:\n",
    "    if i == 0:\n",
    "        return [1]\n",
    "\n",
    "    if (len_digits := len(str_i := str(i))) % 2 == 0:\n",
    "        return [int(str_i[: len_digits // 2]), int(str_i[len_digits // 2 :])]\n",
    "\n",
    "    return [i * 2024]"
   ]
  },
  {
   "cell_type": "code",
   "execution_count": 32,
   "id": "a3f6aa7dc65b95e3",
   "metadata": {
    "ExecuteTime": {
     "end_time": "2024-12-14T07:28:06.245587Z",
     "start_time": "2024-12-14T07:28:06.241518Z"
    }
   },
   "outputs": [
    {
     "name": "stdout",
     "output_type": "stream",
     "text": [
      "[253000, 1, 7]\n",
      "[253, 0, 2024, 14168]\n",
      "[512072, 1, 20, 24, 28676032]\n",
      "[512, 72, 2024, 2, 0, 2, 4, 2867, 6032]\n",
      "[1036288, 7, 2, 20, 24, 4048, 1, 4048, 8096, 28, 67, 60, 32]\n",
      "[2097446912, 14168, 4048, 2, 0, 2, 4, 40, 48, 2024, 40, 48, 80, 96, 2, 8, 6, 7, 6, 0, 3, 2]\n"
     ]
    }
   ],
   "source": [
    "blink = ins.copy()\n",
    "for _ in range(6):\n",
    "    blink = [a for b in blink for a in apply_rule(b)]\n",
    "    print(blink)"
   ]
  }
 ],
 "metadata": {
  "kernelspec": {
   "display_name": "Python 3",
   "language": "python",
   "name": "python3"
  },
  "language_info": {
   "codemirror_mode": {
    "name": "ipython",
    "version": 2
   },
   "file_extension": ".py",
   "mimetype": "text/x-python",
   "name": "python",
   "nbconvert_exporter": "python",
   "pygments_lexer": "ipython2",
   "version": "2.7.6"
  }
 },
 "nbformat": 4,
 "nbformat_minor": 5
}
